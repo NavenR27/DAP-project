{
 "cells": [
  {
   "cell_type": "code",
   "execution_count": null,
   "id": "9aa22f2b",
   "metadata": {},
   "outputs": [],
   "source": [
    "from dagster import ModeDefinition, execute_pipeline, pipeline, solid\n",
    "import subprocess\n",
    "\n",
    "\n",
    "@solid\n",
    "def run_script_1(context):\n",
    "    # Run the first Python script using subprocess\n",
    "    subprocess.run([\"python\", \"data_load_to_mongodb.py\"])\n",
    "    context.log.info(\"Script 1 completed!\")\n",
    "\n",
    "\n",
    "@solid\n",
    "def run_script_2(context):\n",
    "    # Run the second Python script using subprocess\n",
    "    subprocess.run([\"python\", \"mongo_to_postgres.py.py\"])\n",
    "    context.log.info(\"Script 2 completed!\")\n",
    "\n",
    "\n",
    "@solid\n",
    "def run_script_3(context):\n",
    "    # Run the third Python script using subprocess\n",
    "    subprocess.run([\"python\", \"Data_visualization_MC_crash.py\"])\n",
    "    context.log.info(\"Script 3 completed!\")\n",
    "\n",
    "\n",
    "\n",
    "@pipeline\n",
    "def etl_pipeline():\n",
    "    run_script_3(\n",
    "        run_script_2(\n",
    "            run_script_1()\n",
    "            )\n",
    "         )\n",
    "            \n",
    "\n",
    "\n",
    "if __name__ == \"__main__\":\n",
    "    execute_pipeline(\n",
    "        etl_pipeline,\n",
    "        mode_def=ModeDefinition(resource_defs={}),\n",
    "    )"
   ]
  }
 ],
 "metadata": {
  "kernelspec": {
   "display_name": "Python 3 (ipykernel)",
   "language": "python",
   "name": "python3"
  },
  "language_info": {
   "codemirror_mode": {
    "name": "ipython",
    "version": 3
   },
   "file_extension": ".py",
   "mimetype": "text/x-python",
   "name": "python",
   "nbconvert_exporter": "python",
   "pygments_lexer": "ipython3",
   "version": "3.11.5"
  }
 },
 "nbformat": 4,
 "nbformat_minor": 5
}
