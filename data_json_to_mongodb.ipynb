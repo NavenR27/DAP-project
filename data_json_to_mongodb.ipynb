{
 "cells": [
  {
   "cell_type": "code",
   "execution_count": 1,
   "id": "9321ef12",
   "metadata": {},
   "outputs": [
    {
     "name": "stdout",
     "output_type": "stream",
     "text": [
      "JSON data inserted into MongoDB successfully!\n"
     ]
    }
   ],
   "source": [
    "import json\n",
    "from pymongo import MongoClient\n",
    " \n",
    "# Define MongoDB connection settings\n",
    "mongo_uri = \"mongodb://localhost:27023\"  # Change this to your MongoDB URI\n",
    "database_name = \"Motor_collisions\"      # Change this to your database name\n",
    "collection_name = \"MC_People\"  # Change this to your collection name\n",
    " \n",
    "# Define the path to your JSON file\n",
    "json_file_path = \"C:/Users/Naveen/Downloads/data1.json\"     # Change this to the path of your JSON file\n",
    " \n",
    "# Open the JSON file and load its contents\n",
    "with open(json_file_path, \"r\") as json_file:\n",
    "    # Load the JSON content\n",
    "    data = json.load(json_file)\n",
    " \n",
    "    # Connect to MongoDB\n",
    "    client = MongoClient(mongo_uri)\n",
    "    db = client[database_name]\n",
    "    collection = db[collection_name]\n",
    " \n",
    "    # Insert the data into the collection\n",
    "    collection.insert_many(data)\n",
    " \n",
    "    # Close the MongoDB connection\n",
    "    client.close()\n",
    " \n",
    "print(\"JSON data inserted into MongoDB successfully!\")"
   ]
  },
  {
   "cell_type": "code",
   "execution_count": 7,
   "id": "5c794712",
   "metadata": {},
   "outputs": [
    {
     "name": "stdout",
     "output_type": "stream",
     "text": [
      "Column names in the MongoDB collection:\n",
      "_id\n",
      "UNIQUE_ID\n",
      "COLLISION_ID\n",
      "CRASH_DATE\n",
      "CRASH_TIME\n",
      "PERSON_ID\n",
      "PERSON_TYPE\n",
      "PERSON_INJURY\n",
      "VEHICLE_ID\n",
      "PERSON_AGE\n",
      "EJECTION\n",
      "EMOTIONAL_STATUS\n",
      "BODILY_INJURY\n",
      "POSITION_IN_VEHICLE\n",
      "SAFETY_EQUIPMENT\n",
      "PED_LOCATION\n",
      "PED_ACTION\n",
      "COMPLAINT\n",
      "PED_ROLE\n",
      "CONTRIBUTING_FACTOR_1\n",
      "CONTRIBUTING_FACTOR_2\n",
      "PERSON_SEX\n"
     ]
    }
   ],
   "source": [
    "from pymongo import MongoClient\n",
    "\n",
    "# Define MongoDB connection settings\n",
    "mongo_uri = \"mongodb://localhost:27023\"  # Change this to your MongoDB URI\n",
    "database_name = \"Motor_collisions\"      # Change this to your database name\n",
    "collection_name = \"MC_People\"  # Change this to your collection name\n",
    "\n",
    "# Connect to MongoDB\n",
    "mongo_client = MongoClient(mongo_uri)\n",
    "mongo_db = mongo_client[database_name]\n",
    "mongo_collection = mongo_db[collection_name]\n",
    "\n",
    "# Retrieve a sample document from the collection\n",
    "sample_document = mongo_collection.find_one()\n",
    "\n",
    "# Print out the keys (column names) of the sample document\n",
    "if sample_document:\n",
    "    column_names = sample_document.keys()\n",
    "    print(\"Column names in the MongoDB collection:\")\n",
    "    for column_name in column_names:\n",
    "        print(column_name)\n",
    "else:\n",
    "    print(\"No documents found in the collection.\")\n",
    "\n",
    "# Close the MongoDB connection\n",
    "mongo_client.close()\n"
   ]
  },
  {
   "cell_type": "code",
   "execution_count": null,
   "id": "443e2a35",
   "metadata": {},
   "outputs": [],
   "source": []
  }
 ],
 "metadata": {
  "kernelspec": {
   "display_name": "Python 3 (ipykernel)",
   "language": "python",
   "name": "python3"
  },
  "language_info": {
   "codemirror_mode": {
    "name": "ipython",
    "version": 3
   },
   "file_extension": ".py",
   "mimetype": "text/x-python",
   "name": "python",
   "nbconvert_exporter": "python",
   "pygments_lexer": "ipython3",
   "version": "3.11.5"
  }
 },
 "nbformat": 4,
 "nbformat_minor": 5
}
